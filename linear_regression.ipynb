{
 "cells": [
  {
   "cell_type": "code",
   "execution_count": null,
   "id": "644b17b5-40ec-4e8d-88bb-733187c38e8e",
   "metadata": {},
   "outputs": [],
   "source": [
    "Linear Regression, y = b0 + b1*x ->\n",
    "x bağımsız y bağımlı değişken durumunda"
   ]
  },
  {
   "cell_type": "markdown",
   "id": "b840ee9d-3a6f-4dd1-b421-856a6ea6c7c6",
   "metadata": {},
   "source": [
    "b1 -> intercept (katsayı), b0 -> intercept (grafiğin başlangıç noktasından sağa sola gidişini belirliyor)"
   ]
  },
  {
   "cell_type": "code",
   "execution_count": 1,
   "id": "1da3f12e-d014-4ca5-8443-d4647f4f54cf",
   "metadata": {},
   "outputs": [],
   "source": [
    "#Linear Regression"
   ]
  },
  {
   "cell_type": "code",
   "execution_count": 2,
   "id": "625f0050-5779-4b6e-be84-052b2804bdd4",
   "metadata": {},
   "outputs": [],
   "source": [
    "import numpy as np\n",
    "import pandas as pd\n",
    "import matplotlib.pyplot as plt\n",
    "import seaborn as sns"
   ]
  },
  {
   "cell_type": "code",
   "execution_count": 3,
   "id": "03a8bbb8-cd5c-4f27-82a2-338632ba4955",
   "metadata": {
    "tags": []
   },
   "outputs": [
    {
     "data": {
      "text/html": [
       "<div>\n",
       "<style scoped>\n",
       "    .dataframe tbody tr th:only-of-type {\n",
       "        vertical-align: middle;\n",
       "    }\n",
       "\n",
       "    .dataframe tbody tr th {\n",
       "        vertical-align: top;\n",
       "    }\n",
       "\n",
       "    .dataframe thead th {\n",
       "        text-align: right;\n",
       "    }\n",
       "</style>\n",
       "<table border=\"1\" class=\"dataframe\">\n",
       "  <thead>\n",
       "    <tr style=\"text-align: right;\">\n",
       "      <th></th>\n",
       "      <th>Experience</th>\n",
       "      <th>Salaries</th>\n",
       "    </tr>\n",
       "  </thead>\n",
       "  <tbody>\n",
       "    <tr>\n",
       "      <th>0</th>\n",
       "      <td>1.000000</td>\n",
       "      <td>35800</td>\n",
       "    </tr>\n",
       "    <tr>\n",
       "      <th>1</th>\n",
       "      <td>1.137931</td>\n",
       "      <td>38923</td>\n",
       "    </tr>\n",
       "    <tr>\n",
       "      <th>2</th>\n",
       "      <td>1.275862</td>\n",
       "      <td>39674</td>\n",
       "    </tr>\n",
       "    <tr>\n",
       "      <th>3</th>\n",
       "      <td>1.413793</td>\n",
       "      <td>39289</td>\n",
       "    </tr>\n",
       "    <tr>\n",
       "      <th>4</th>\n",
       "      <td>1.551724</td>\n",
       "      <td>43024</td>\n",
       "    </tr>\n",
       "    <tr>\n",
       "      <th>5</th>\n",
       "      <td>1.689655</td>\n",
       "      <td>44989</td>\n",
       "    </tr>\n",
       "    <tr>\n",
       "      <th>6</th>\n",
       "      <td>1.827586</td>\n",
       "      <td>46273</td>\n",
       "    </tr>\n",
       "    <tr>\n",
       "      <th>7</th>\n",
       "      <td>1.965517</td>\n",
       "      <td>49046</td>\n",
       "    </tr>\n",
       "    <tr>\n",
       "      <th>8</th>\n",
       "      <td>2.103448</td>\n",
       "      <td>52309</td>\n",
       "    </tr>\n",
       "    <tr>\n",
       "      <th>9</th>\n",
       "      <td>2.241379</td>\n",
       "      <td>54258</td>\n",
       "    </tr>\n",
       "    <tr>\n",
       "      <th>10</th>\n",
       "      <td>2.379310</td>\n",
       "      <td>55118</td>\n",
       "    </tr>\n",
       "    <tr>\n",
       "      <th>11</th>\n",
       "      <td>2.517241</td>\n",
       "      <td>56650</td>\n",
       "    </tr>\n",
       "    <tr>\n",
       "      <th>12</th>\n",
       "      <td>2.655172</td>\n",
       "      <td>60396</td>\n",
       "    </tr>\n",
       "    <tr>\n",
       "      <th>13</th>\n",
       "      <td>2.793103</td>\n",
       "      <td>60310</td>\n",
       "    </tr>\n",
       "    <tr>\n",
       "      <th>14</th>\n",
       "      <td>2.931034</td>\n",
       "      <td>64016</td>\n",
       "    </tr>\n",
       "    <tr>\n",
       "      <th>15</th>\n",
       "      <td>3.068966</td>\n",
       "      <td>63483</td>\n",
       "    </tr>\n",
       "    <tr>\n",
       "      <th>16</th>\n",
       "      <td>3.206897</td>\n",
       "      <td>63724</td>\n",
       "    </tr>\n",
       "    <tr>\n",
       "      <th>17</th>\n",
       "      <td>3.344828</td>\n",
       "      <td>66848</td>\n",
       "    </tr>\n",
       "    <tr>\n",
       "      <th>18</th>\n",
       "      <td>3.482759</td>\n",
       "      <td>70112</td>\n",
       "    </tr>\n",
       "    <tr>\n",
       "      <th>19</th>\n",
       "      <td>3.620690</td>\n",
       "      <td>69862</td>\n",
       "    </tr>\n",
       "    <tr>\n",
       "      <th>20</th>\n",
       "      <td>3.758621</td>\n",
       "      <td>72118</td>\n",
       "    </tr>\n",
       "    <tr>\n",
       "      <th>21</th>\n",
       "      <td>3.896552</td>\n",
       "      <td>73842</td>\n",
       "    </tr>\n",
       "    <tr>\n",
       "      <th>22</th>\n",
       "      <td>4.034483</td>\n",
       "      <td>75628</td>\n",
       "    </tr>\n",
       "    <tr>\n",
       "      <th>23</th>\n",
       "      <td>4.172414</td>\n",
       "      <td>79604</td>\n",
       "    </tr>\n",
       "    <tr>\n",
       "      <th>24</th>\n",
       "      <td>4.310345</td>\n",
       "      <td>83510</td>\n",
       "    </tr>\n",
       "    <tr>\n",
       "      <th>25</th>\n",
       "      <td>4.448276</td>\n",
       "      <td>84761</td>\n",
       "    </tr>\n",
       "    <tr>\n",
       "      <th>26</th>\n",
       "      <td>4.586207</td>\n",
       "      <td>84996</td>\n",
       "    </tr>\n",
       "    <tr>\n",
       "      <th>27</th>\n",
       "      <td>4.724138</td>\n",
       "      <td>88345</td>\n",
       "    </tr>\n",
       "    <tr>\n",
       "      <th>28</th>\n",
       "      <td>4.862069</td>\n",
       "      <td>90777</td>\n",
       "    </tr>\n",
       "    <tr>\n",
       "      <th>29</th>\n",
       "      <td>5.000000</td>\n",
       "      <td>91441</td>\n",
       "    </tr>\n",
       "  </tbody>\n",
       "</table>\n",
       "</div>"
      ],
      "text/plain": [
       "    Experience  Salaries\n",
       "0     1.000000     35800\n",
       "1     1.137931     38923\n",
       "2     1.275862     39674\n",
       "3     1.413793     39289\n",
       "4     1.551724     43024\n",
       "5     1.689655     44989\n",
       "6     1.827586     46273\n",
       "7     1.965517     49046\n",
       "8     2.103448     52309\n",
       "9     2.241379     54258\n",
       "10    2.379310     55118\n",
       "11    2.517241     56650\n",
       "12    2.655172     60396\n",
       "13    2.793103     60310\n",
       "14    2.931034     64016\n",
       "15    3.068966     63483\n",
       "16    3.206897     63724\n",
       "17    3.344828     66848\n",
       "18    3.482759     70112\n",
       "19    3.620690     69862\n",
       "20    3.758621     72118\n",
       "21    3.896552     73842\n",
       "22    4.034483     75628\n",
       "23    4.172414     79604\n",
       "24    4.310345     83510\n",
       "25    4.448276     84761\n",
       "26    4.586207     84996\n",
       "27    4.724138     88345\n",
       "28    4.862069     90777\n",
       "29    5.000000     91441"
      ]
     },
     "execution_count": 3,
     "metadata": {},
     "output_type": "execute_result"
    }
   ],
   "source": [
    "#burada kendi datasetimi oluşturuyorum\n",
    "y_exp = np.linspace(1, 5, 30)\n",
    "salary = []\n",
    "salary_new = 35000\n",
    "for i in range(30):\n",
    "    up = int(np.random.randint(0,5000,1))\n",
    "    down = int(np.random.randint(0,1000,1))\n",
    "    salary_new += up\n",
    "    salary_new -= down\n",
    "    salary.append(salary_new)\n",
    "\n",
    "df = pd.DataFrame({\"Experience\": y_exp,\n",
    "                 \"Salaries\": salary})\n",
    "df"
   ]
  },
  {
   "cell_type": "code",
   "execution_count": 4,
   "id": "e5696ef5-186d-4567-b156-49f4dbc99734",
   "metadata": {},
   "outputs": [
    {
     "data": {
      "text/html": [
       "<div>\n",
       "<style scoped>\n",
       "    .dataframe tbody tr th:only-of-type {\n",
       "        vertical-align: middle;\n",
       "    }\n",
       "\n",
       "    .dataframe tbody tr th {\n",
       "        vertical-align: top;\n",
       "    }\n",
       "\n",
       "    .dataframe thead th {\n",
       "        text-align: right;\n",
       "    }\n",
       "</style>\n",
       "<table border=\"1\" class=\"dataframe\">\n",
       "  <thead>\n",
       "    <tr style=\"text-align: right;\">\n",
       "      <th></th>\n",
       "      <th>Experience</th>\n",
       "      <th>Salaries</th>\n",
       "    </tr>\n",
       "  </thead>\n",
       "  <tbody>\n",
       "    <tr>\n",
       "      <th>0</th>\n",
       "      <td>1.000000</td>\n",
       "      <td>35800</td>\n",
       "    </tr>\n",
       "    <tr>\n",
       "      <th>1</th>\n",
       "      <td>1.137931</td>\n",
       "      <td>38923</td>\n",
       "    </tr>\n",
       "    <tr>\n",
       "      <th>2</th>\n",
       "      <td>1.275862</td>\n",
       "      <td>39674</td>\n",
       "    </tr>\n",
       "    <tr>\n",
       "      <th>3</th>\n",
       "      <td>1.413793</td>\n",
       "      <td>39289</td>\n",
       "    </tr>\n",
       "    <tr>\n",
       "      <th>4</th>\n",
       "      <td>1.551724</td>\n",
       "      <td>43024</td>\n",
       "    </tr>\n",
       "  </tbody>\n",
       "</table>\n",
       "</div>"
      ],
      "text/plain": [
       "   Experience  Salaries\n",
       "0    1.000000     35800\n",
       "1    1.137931     38923\n",
       "2    1.275862     39674\n",
       "3    1.413793     39289\n",
       "4    1.551724     43024"
      ]
     },
     "execution_count": 4,
     "metadata": {},
     "output_type": "execute_result"
    }
   ],
   "source": [
    "df.head()"
   ]
  },
  {
   "cell_type": "code",
   "execution_count": 5,
   "id": "d5844f4d-db1f-487a-88fc-25f6e70b24fc",
   "metadata": {},
   "outputs": [
    {
     "data": {
      "text/plain": [
       "(30, 2)"
      ]
     },
     "execution_count": 5,
     "metadata": {},
     "output_type": "execute_result"
    }
   ],
   "source": [
    "df.shape"
   ]
  },
  {
   "cell_type": "code",
   "execution_count": 6,
   "id": "e96764de-d81a-47ce-bfd9-8d2bf22fb7b6",
   "metadata": {},
   "outputs": [],
   "source": [
    "X = df.drop([\"Salaries\"], axis = True)\n",
    "y = df[\"Salaries\"]"
   ]
  },
  {
   "cell_type": "code",
   "execution_count": 7,
   "id": "68faaf4a-c0f3-4afa-af93-676afbcc35da",
   "metadata": {},
   "outputs": [],
   "source": [
    "#Scikitlearn ile öğrenme\n",
    "from sklearn.model_selection import train_test_split\n",
    "X_train, X_test, y_train, y_test = train_test_split(X, y, test_size = 0.2, random_state = 42)"
   ]
  },
  {
   "cell_type": "code",
   "execution_count": 8,
   "id": "36a85ae0-6483-4b02-8931-21c7d6dfbdfa",
   "metadata": {},
   "outputs": [
    {
     "data": {
      "text/plain": [
       "((24, 1), (6, 1), (24,), (6,))"
      ]
     },
     "execution_count": 8,
     "metadata": {},
     "output_type": "execute_result"
    }
   ],
   "source": [
    "X_train.shape, X_test.shape, y_train.shape, y_test.shape\n"
   ]
  },
  {
   "cell_type": "code",
   "execution_count": 9,
   "id": "ab708e3b-80e8-40ba-ac76-e766e4ed9535",
   "metadata": {},
   "outputs": [
    {
     "data": {
      "image/png": "[encoded data removed]",
      "text/plain": [
       "<Figure size 360x360 with 6 Axes>"
      ]
     },
     "metadata": {
      "needs_background": "light"
     },
     "output_type": "display_data"
    }
   ],
   "source": [
    "sns.pairplot(df);"
   ]
  },
  {
   "cell_type": "code",
   "execution_count": 10,
   "id": "27a2f51c-6081-4497-b305-6db9ee1b9f88",
   "metadata": {},
   "outputs": [
    {
     "data": {
      "image/png": "[encoded data removed]",
      "text/plain": [
       "<Figure size 432x288 with 1 Axes>"
      ]
     },
     "metadata": {
      "needs_background": "light"
     },
     "output_type": "display_data"
    }
   ],
   "source": [
    "#Train data\n",
    "plt.plot(X_train, y_train, 'r.', label = 'train_data')\n",
    "plt.xlabel('X_train')\n",
    "plt.ylabel('y_train')\n",
    "plt.legend()\n",
    "plt.show()"
   ]
  },
  {
   "cell_type": "code",
   "execution_count": 11,
   "id": "2a8eb81e-6008-432c-9171-6e035b0e60b6",
   "metadata": {},
   "outputs": [
    {
     "data": {
      "image/png": "[encoded data removed]",
      "text/plain": [
       "<Figure size 432x288 with 1 Axes>"
      ]
     },
     "metadata": {
      "needs_background": "light"
     },
     "output_type": "display_data"
    }
   ],
   "source": [
    "#Test data\n",
    "plt.plot(X_test, y_test, 'g.', label = 'test_data')\n",
    "plt.xlabel('X_test')\n",
    "plt.ylabel('y_test')\n",
    "plt.legend()\n",
    "plt.show()"
   ]
  },
  {
   "cell_type": "code",
   "execution_count": 12,
   "id": "370ef5fe-8701-4ef9-a3ba-1f0c6979163f",
   "metadata": {},
   "outputs": [
    {
     "data": {
      "text/plain": [
       "LinearRegression()"
      ]
     },
     "execution_count": 12,
     "metadata": {},
     "output_type": "execute_result"
    }
   ],
   "source": [
    "#Modeli Eğitme\n",
    "from sklearn.linear_model import LinearRegression\n",
    "regressor = LinearRegression()\n",
    "regressor.fit(X_train, y_train)"
   ]
  },
  {
   "cell_type": "code",
   "execution_count": 13,
   "id": "f3790f2a-be2c-48fb-850a-7709b0552ca1",
   "metadata": {},
   "outputs": [],
   "source": [
    "y_pred = regressor.predict(X_test).round(1)"
   ]
  },
  {
   "cell_type": "code",
   "execution_count": 14,
   "id": "8fdd6d4a-54bb-4c3b-97e3-1a25dea13bfe",
   "metadata": {},
   "outputs": [
    {
     "data": {
      "text/html": [
       "<div>\n",
       "<style scoped>\n",
       "    .dataframe tbody tr th:only-of-type {\n",
       "        vertical-align: middle;\n",
       "    }\n",
       "\n",
       "    .dataframe tbody tr th {\n",
       "        vertical-align: top;\n",
       "    }\n",
       "\n",
       "    .dataframe thead th {\n",
       "        text-align: right;\n",
       "    }\n",
       "</style>\n",
       "<table border=\"1\" class=\"dataframe\">\n",
       "  <thead>\n",
       "    <tr style=\"text-align: right;\">\n",
       "      <th></th>\n",
       "      <th>Original Salary</th>\n",
       "      <th>Predicted Salary</th>\n",
       "    </tr>\n",
       "  </thead>\n",
       "  <tbody>\n",
       "    <tr>\n",
       "      <th>0</th>\n",
       "      <td>88345.0</td>\n",
       "      <td>87173.4</td>\n",
       "    </tr>\n",
       "    <tr>\n",
       "      <th>1</th>\n",
       "      <td>63483.0</td>\n",
       "      <td>64177.9</td>\n",
       "    </tr>\n",
       "    <tr>\n",
       "      <th>2</th>\n",
       "      <td>79604.0</td>\n",
       "      <td>79508.3</td>\n",
       "    </tr>\n",
       "    <tr>\n",
       "      <th>3</th>\n",
       "      <td>66848.0</td>\n",
       "      <td>68010.5</td>\n",
       "    </tr>\n",
       "    <tr>\n",
       "      <th>4</th>\n",
       "      <td>52309.0</td>\n",
       "      <td>50763.9</td>\n",
       "    </tr>\n",
       "    <tr>\n",
       "      <th>5</th>\n",
       "      <td>54258.0</td>\n",
       "      <td>52680.2</td>\n",
       "    </tr>\n",
       "  </tbody>\n",
       "</table>\n",
       "</div>"
      ],
      "text/plain": [
       "   Original Salary  Predicted Salary\n",
       "0          88345.0           87173.4\n",
       "1          63483.0           64177.9\n",
       "2          79604.0           79508.3\n",
       "3          66848.0           68010.5\n",
       "4          52309.0           50763.9\n",
       "5          54258.0           52680.2"
      ]
     },
     "execution_count": 14,
     "metadata": {},
     "output_type": "execute_result"
    }
   ],
   "source": [
    "hesaplama = pd.DataFrame(np.c_[y_test, y_pred], columns = ['Original Salary', 'Predicted Salary'])\n",
    "hesaplama"
   ]
  },
  {
   "cell_type": "code",
   "execution_count": 15,
   "id": "f8256475-575c-4452-ac70-31728eb527d3",
   "metadata": {},
   "outputs": [
    {
     "data": {
      "image/png": "[encoded data removed]",
      "text/plain": [
       "<Figure size 432x288 with 1 Axes>"
      ]
     },
     "metadata": {
      "needs_background": "light"
     },
     "output_type": "display_data"
    }
   ],
   "source": [
    "# tahmin regressionumuz ile train aşamasındaki örneklerin grafiği\n",
    "plt.scatter(X_train, y_train, color = 'red')\n",
    "plt.plot(X_train, regressor.predict(X_train), color = 'blue')\n",
    "plt.title('Salary vs Experience (Train set)')\n",
    "plt.xlabel('Years of Experience')\n",
    "plt.ylabel('Salary')\n",
    "plt.show()"
   ]
  },
  {
   "cell_type": "code",
   "execution_count": 16,
   "id": "2926c1f5-b685-428e-8931-2ac880c10a7a",
   "metadata": {},
   "outputs": [
    {
     "data": {
      "image/png": "[encoded data removed]",
      "text/plain": [
       "<Figure size 432x288 with 1 Axes>"
      ]
     },
     "metadata": {
      "needs_background": "light"
     },
     "output_type": "display_data"
    }
   ],
   "source": [
    "# tahim regressionumuz ile test aşamasındaki örneklerin grafiği\n",
    "plt.scatter(X_test, y_test, color = 'red')\n",
    "plt.plot(X_train, regressor.predict(X_train), color = 'blue')\n",
    "plt.title('Salary vs Experience (Test set)')\n",
    "plt.xlabel('Years of Experience')\n",
    "plt.ylabel('Salary')\n",
    "plt.show()"
   ]
  },
  {
   "cell_type": "code",
   "execution_count": 17,
   "id": "0f2c7403-a74b-4473-832c-b99ba1816d32",
   "metadata": {},
   "outputs": [
    {
     "name": "stdout",
     "output_type": "stream",
     "text": [
      "Training Accuracy :  0.9939763495927926\n",
      "Testing Accuracy :  0.9919367207385138\n"
     ]
    }
   ],
   "source": [
    "print(\"Training Accuracy : \", regressor.score(X_train, y_train))\n",
    "print(\"Testing Accuracy : \", regressor.score(X_test, y_test))"
   ]
  }
 ],
 "metadata": {
  "kernelspec": {
   "display_name": "Python 3 (ipykernel)",
   "language": "python",
   "name": "python3"
  },
  "language_info": {
   "codemirror_mode": {
    "name": "ipython",
    "version": 3
   },
   "file_extension": ".py",
   "mimetype": "text/x-python",
   "name": "python",
   "nbconvert_exporter": "python",
   "pygments_lexer": "ipython3",
   "version": "3.9.7"
  }
 },
 "nbformat": 4,
 "nbformat_minor": 5
}
