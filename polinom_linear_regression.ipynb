{
 "cells": [
  {
   "cell_type": "markdown",
   "id": "4423b239-4b34-4b8a-80c0-efcce8f2ccec",
   "metadata": {},
   "source": [
    "#Polinom Linear Regression\n",
    "#y = a + bx + cx^2 + .... + nx^n + ...."
   ]
  },
  {
   "cell_type": "code",
   "execution_count": 1,
   "id": "3d86af4c-8ca1-43a1-8d5c-c50a5aa2dcb5",
   "metadata": {},
   "outputs": [],
   "source": [
    "import numpy as np\n",
    "import pandas as pd\n",
    "import matplotlib.pyplot as plt\n",
    "import seaborn as sns"
   ]
  },
  {
   "cell_type": "code",
   "execution_count": 2,
   "id": "c267d34a-3150-4cb2-82f3-f000c326ad35",
   "metadata": {},
   "outputs": [],
   "source": [
    "dataset = pd.read_csv(\"/Users/alperencngzz/Desktop/ecodata/Position_Salaries.csv\")"
   ]
  },
  {
   "cell_type": "code",
   "execution_count": 3,
   "id": "90d331d5-889c-4afe-81cf-a85e0d8e8208",
   "metadata": {},
   "outputs": [
    {
     "data": {
      "text/html": [
       "<div>\n",
       "<style scoped>\n",
       "    .dataframe tbody tr th:only-of-type {\n",
       "        vertical-align: middle;\n",
       "    }\n",
       "\n",
       "    .dataframe tbody tr th {\n",
       "        vertical-align: top;\n",
       "    }\n",
       "\n",
       "    .dataframe thead th {\n",
       "        text-align: right;\n",
       "    }\n",
       "</style>\n",
       "<table border=\"1\" class=\"dataframe\">\n",
       "  <thead>\n",
       "    <tr style=\"text-align: right;\">\n",
       "      <th></th>\n",
       "      <th>Position</th>\n",
       "      <th>Level</th>\n",
       "      <th>Salary</th>\n",
       "    </tr>\n",
       "  </thead>\n",
       "  <tbody>\n",
       "    <tr>\n",
       "      <th>0</th>\n",
       "      <td>Business Analyst</td>\n",
       "      <td>1</td>\n",
       "      <td>45000</td>\n",
       "    </tr>\n",
       "    <tr>\n",
       "      <th>1</th>\n",
       "      <td>Junior Consultant</td>\n",
       "      <td>2</td>\n",
       "      <td>50000</td>\n",
       "    </tr>\n",
       "    <tr>\n",
       "      <th>2</th>\n",
       "      <td>Senior Consultant</td>\n",
       "      <td>3</td>\n",
       "      <td>60000</td>\n",
       "    </tr>\n",
       "    <tr>\n",
       "      <th>3</th>\n",
       "      <td>Manager</td>\n",
       "      <td>4</td>\n",
       "      <td>80000</td>\n",
       "    </tr>\n",
       "    <tr>\n",
       "      <th>4</th>\n",
       "      <td>Country Manager</td>\n",
       "      <td>5</td>\n",
       "      <td>110000</td>\n",
       "    </tr>\n",
       "  </tbody>\n",
       "</table>\n",
       "</div>"
      ],
      "text/plain": [
       "            Position  Level  Salary\n",
       "0   Business Analyst      1   45000\n",
       "1  Junior Consultant      2   50000\n",
       "2  Senior Consultant      3   60000\n",
       "3            Manager      4   80000\n",
       "4    Country Manager      5  110000"
      ]
     },
     "execution_count": 3,
     "metadata": {},
     "output_type": "execute_result"
    }
   ],
   "source": [
    "dataset.head()"
   ]
  },
  {
   "cell_type": "code",
   "execution_count": 4,
   "id": "bab9ed31-c131-46ae-8982-934f251891ea",
   "metadata": {},
   "outputs": [],
   "source": [
    "dataset = dataset.drop([\"Position\"], axis = True)"
   ]
  },
  {
   "cell_type": "code",
   "execution_count": 5,
   "id": "17920b36-3744-4e9e-b807-a4387a21d688",
   "metadata": {},
   "outputs": [
    {
     "data": {
      "image/png": "[encoded data removed]",
      "text/plain": [
       "<Figure size 360x360 with 6 Axes>"
      ]
     },
     "metadata": {
      "needs_background": "light"
     },
     "output_type": "display_data"
    }
   ],
   "source": [
    "sns.pairplot(dataset);"
   ]
  },
  {
   "cell_type": "markdown",
   "id": "901a5f7f-99be-46f3-a0f5-8a2db6ecc371",
   "metadata": {},
   "source": [
    "Verilerin grafikteki dağılımına bakıp düz bir çizgi yani linear regression ile halledilemeyeceğini görüyoruz, bu yüzden polinom regression kullanmamız gerektiğini anlıyoruz. Grafik de zaten polinom grafiği gibi görünüyor."
   ]
  },
  {
   "cell_type": "code",
   "execution_count": 6,
   "id": "c909fba2-839d-440d-8f94-5fa8df62ee84",
   "metadata": {},
   "outputs": [],
   "source": [
    "X = dataset.drop([\"Salary\"], axis = True)\n",
    "y = dataset[\"Salary\"]"
   ]
  },
  {
   "cell_type": "code",
   "execution_count": 7,
   "id": "827ef6ee-5b48-4abc-9b51-9698ea42d40f",
   "metadata": {},
   "outputs": [],
   "source": [
    "from sklearn.model_selection import train_test_split\n",
    "X_train, X_test, y_train, y_test = train_test_split(X, y, test_size = 0.2, random_state = 42)"
   ]
  },
  {
   "cell_type": "code",
   "execution_count": 8,
   "id": "087dd282-2e74-4420-a54e-a1fd157b55d2",
   "metadata": {},
   "outputs": [
    {
     "data": {
      "text/plain": [
       "((8, 1), (2, 1), (8,), (2,))"
      ]
     },
     "execution_count": 8,
     "metadata": {},
     "output_type": "execute_result"
    }
   ],
   "source": [
    "X_train.shape, X_test.shape, y_train.shape, y_test.shape"
   ]
  },
  {
   "cell_type": "code",
   "execution_count": 9,
   "id": "ce121b25-e3a4-4fc3-a104-a2df2c93d22b",
   "metadata": {},
   "outputs": [
    {
     "name": "stdout",
     "output_type": "stream",
     "text": [
      "Training Accuracy :  0.6366049276570868\n",
      "Testing Accuracy :  0.8451346684575975\n"
     ]
    }
   ],
   "source": [
    "# linear regression ile çözünce çıkan sonuçlar\n",
    "from sklearn.linear_model import LinearRegression\n",
    "lin_reg = LinearRegression()\n",
    "lin_reg.fit(X_train, y_train)\n",
    "print(\"Training Accuracy : \", lin_reg.score(X_train, y_train))\n",
    "print(\"Testing Accuracy : \", lin_reg.score(X_test, y_test))"
   ]
  },
  {
   "cell_type": "code",
   "execution_count": 10,
   "id": "cfda6524-93ea-49d8-9646-d8ec25bdaa8d",
   "metadata": {
    "tags": []
   },
   "outputs": [
    {
     "name": "stdout",
     "output_type": "stream",
     "text": [
      "Training Accuracy :  0.9995857211026753\n",
      "Testing Accuracy :  0.9714666803840316\n"
     ]
    }
   ],
   "source": [
    "# Polinomial regression ile çözünce çıkan sonuçlar\n",
    "from sklearn.preprocessing import PolynomialFeatures\n",
    "\n",
    "# bu kısım regression'u polinomik haldeyken çözmeyi lineale uyarlıyor yani polinom regression'a uygun hale getiriyor verileri\n",
    "poly_reg = PolynomialFeatures(degree = 4)\n",
    "X_poly = poly_reg.fit_transform(X_train)\n",
    "X_poly_test = poly_reg.transform(X_test)\n",
    "#\n",
    "\n",
    "# bu kısım normal linear regression ile aynı, ama test ve train grupları ayarlı olduğu için sorun olmuyor\n",
    "lin_reg_2 = LinearRegression()\n",
    "lin_reg_2.fit(X_poly, y_train)\n",
    "#\n",
    "\n",
    "print(\"Training Accuracy : \", lin_reg_2.score(X_poly, y_train))\n",
    "print(\"Testing Accuracy : \", lin_reg_2.score(X_poly_test, y_test))"
   ]
  },
  {
   "cell_type": "code",
   "execution_count": 11,
   "id": "aceec0f7-2c14-4d81-a532-16f9c47f7c78",
   "metadata": {
    "tags": []
   },
   "outputs": [
    {
     "data": {
      "image/png": "[encoded data removed]",
      "text/plain": [
       "<Figure size 432x288 with 1 Axes>"
      ]
     },
     "metadata": {
      "needs_background": "light"
     },
     "output_type": "display_data"
    }
   ],
   "source": [
    "# Linear regression ile yapılan tahminlerin sonuçları\n",
    "plt.scatter(X_train, y_train, color = 'red')\n",
    "plt.plot(X_train, lin_reg.predict(X_train), color = 'blue')\n",
    "plt.title('Linear Regression')\n",
    "plt.xlabel('Position Level')\n",
    "plt.ylabel('Salary')\n",
    "plt.show()"
   ]
  },
  {
   "cell_type": "code",
   "execution_count": 12,
   "id": "1ebc4638-ad8f-4062-9948-63949545e2e6",
   "metadata": {},
   "outputs": [
    {
     "data": {
      "image/png": "[encoded data removed]",
      "text/plain": [
       "<Figure size 432x288 with 1 Axes>"
      ]
     },
     "metadata": {
      "needs_background": "light"
     },
     "output_type": "display_data"
    }
   ],
   "source": [
    "# Polinomial regression ile yapılan tahminlerin sonuçları\n",
    "plt.scatter(X, y, color = 'red')\n",
    "plt.plot(X, lin_reg_2.predict(poly_reg.fit_transform(X)), color = 'blue')\n",
    "plt.title('Linear Regression')\n",
    "plt.xlabel('Position Level')\n",
    "plt.ylabel('Salary')\n",
    "plt.show()"
   ]
  },
  {
   "cell_type": "code",
   "execution_count": null,
   "id": "69335296-5385-4602-89f5-94c2c45f2500",
   "metadata": {},
   "outputs": [],
   "source": []
  }
 ],
 "metadata": {
  "kernelspec": {
   "display_name": "Python 3 (ipykernel)",
   "language": "python",
   "name": "python3"
  },
  "language_info": {
   "codemirror_mode": {
    "name": "ipython",
    "version": 3
   },
   "file_extension": ".py",
   "mimetype": "text/x-python",
   "name": "python",
   "nbconvert_exporter": "python",
   "pygments_lexer": "ipython3",
   "version": "3.9.7"
  }
 },
 "nbformat": 4,
 "nbformat_minor": 5
}
